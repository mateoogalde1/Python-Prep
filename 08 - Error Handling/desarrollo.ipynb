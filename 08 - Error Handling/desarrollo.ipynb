{
 "cells": [
  {
   "cell_type": "code",
   "execution_count": 1,
   "metadata": {},
   "outputs": [],
   "source": [
    "def Factorial(numero):\n",
    "    '''\n",
    "    Esta función devuelve el factorial del número pasado como parámetro.\n",
    "    En caso de que no sea de tipo entero y/o sea menor que 1, debe retornar nulo.\n",
    "    Recibe un argumento:\n",
    "        numero: Será el número con el que se calcule el factorial\n",
    "    Ej:\n",
    "        Factorial(4) debe retornar 24\n",
    "        Factorial(-2) debe retornar nulo\n",
    "    '''\n",
    "    if not isinstance(numero, int) or numero < 1:\n",
    "        return None\n",
    "    \n",
    "    fact = 1\n",
    "    for i in range(1, numero+1):\n",
    "        fact *= i\n",
    "\n",
    "    return fact"
   ]
  },
  {
   "cell_type": "code",
   "execution_count": 12,
   "metadata": {},
   "outputs": [
    {
     "name": "stdout",
     "output_type": "stream",
     "text": [
      "None\n"
     ]
    }
   ],
   "source": [
    "print (Factorial(0))"
   ]
  },
  {
   "cell_type": "code",
   "execution_count": 13,
   "metadata": {},
   "outputs": [],
   "source": [
    "def EsPrimo(valor):\n",
    "    '''\n",
    "    Esta función devuelve el valor booleano True si el número recibido como parámetro es primo, de lo \n",
    "    contrario devuelve False.\n",
    "    En caso de que el parámetro no sea de tipo entero debe retornar nulo.\n",
    "    Recibe un argumento:\n",
    "        valor: Será el número a evaluar\n",
    "    Ej:\n",
    "        EsPrimo(7) debe retornar True\n",
    "        EsPrimo(8) debe retornar False\n",
    "    '''\n",
    "    if not isinstance(valor, int):\n",
    "        return None\n",
    "    \n",
    "    if valor < 2:\n",
    "        return False\n",
    "    \n",
    "    for i in range(2, valor):\n",
    "        if valor % i == 0:\n",
    "            return False\n",
    "    \n",
    "    return True\n"
   ]
  },
  {
   "cell_type": "code",
   "execution_count": 4,
   "metadata": {},
   "outputs": [],
   "source": [
    "class Animal:\n",
    "    def __init__(self, especie, color):\n",
    "        self.Edad = 0\n",
    "        self.Especie = especie\n",
    "        self.Color = color\n",
    "\n",
    "    def CumplirAnios(self):\n",
    "        self.Edad += 1\n",
    "        return self.Edad\n"
   ]
  },
  {
   "cell_type": "code",
   "execution_count": 8,
   "metadata": {},
   "outputs": [],
   "source": [
    "def ClaseAnimal(especie, color):\n",
    "    '''\n",
    "    Esta función devuelve un objeto instanciado de la clase Animal, \n",
    "    la cual debe tener los siguientes atributos:\n",
    "        Edad    (Un valor de tipo de dato entero, que debe inicializarse en cero)\n",
    "        Especie (Un valor de tipo de dato string)\n",
    "        Color   (Un valor de tipo de dato string)\n",
    "    y debe tener el siguiente método:\n",
    "        CumplirAnios  (este método debe sumar uno al atributo Edad y debe devolver ese valor)\n",
    "    Recibe dos argumento:\n",
    "        especie: Dato que se asignará al atributo Especie del objeto de la clase Animal\n",
    "        color: Dato que se asignará al atributo Color del objeto de la clase Animal\n",
    "    Ej:\n",
    "        a = ClaseAnimal('perro','blanco')\n",
    "        a.CumplirAnios() -> debe devolver 1\n",
    "        a.CumplirAnios() -> debe devolver 2\n",
    "        a.CumplirAnios() -> debe devolver 3\n",
    "    '''\n",
    "    #Tu código aca:\n",
    "    class Animal:\n",
    "        def __init__(self, especie, color):\n",
    "            self.Edad = 0\n",
    "            self.Especie = especie\n",
    "            self.Color = color\n",
    "\n",
    "        def CumplirAnios(self):\n",
    "            self.Edad += 1\n",
    "            return self.Edad\n",
    "    return Animal (especie, color)\n"
   ]
  },
  {
   "cell_type": "code",
   "execution_count": 10,
   "metadata": {},
   "outputs": [
    {
     "data": {
      "text/plain": [
       "1"
      ]
     },
     "execution_count": 10,
     "metadata": {},
     "output_type": "execute_result"
    }
   ],
   "source": [
    "a = ClaseAnimal('perro','blanco')\n",
    "a.CumplirAnios()"
   ]
  }
 ],
 "metadata": {
  "kernelspec": {
   "display_name": "Python 3",
   "language": "python",
   "name": "python3"
  },
  "language_info": {
   "codemirror_mode": {
    "name": "ipython",
    "version": 3
   },
   "file_extension": ".py",
   "mimetype": "text/x-python",
   "name": "python",
   "nbconvert_exporter": "python",
   "pygments_lexer": "ipython3",
   "version": "3.11.3"
  },
  "orig_nbformat": 4
 },
 "nbformat": 4,
 "nbformat_minor": 2
}
