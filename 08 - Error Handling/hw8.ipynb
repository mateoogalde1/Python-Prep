{
 "cells": [
  {
   "attachments": {},
   "cell_type": "markdown",
   "metadata": {},
   "source": [
    "1) Con la clase creada en el módulo 7, tener en cuenta diferentes casos en que el código pudiera arrojar error. Por ejemplo, en la creación del objeto recibimos una lista de números enteros pero ¿qué pasa si se envía otro tipo de dato?"
   ]
  },
  {
   "cell_type": "code",
   "execution_count": 1,
   "metadata": {},
   "outputs": [
    {
     "ename": "ValueError",
     "evalue": "Se ha creado una lista vacía. Se esperaba una lista de núemeros enteros",
     "output_type": "error",
     "traceback": [
      "\u001b[1;31m---------------------------------------------------------------------------\u001b[0m",
      "\u001b[1;31mValueError\u001b[0m                                Traceback (most recent call last)",
      "Cell \u001b[1;32mIn[1], line 9\u001b[0m\n\u001b[0;32m      7\u001b[0m \u001b[39mimport\u001b[39;00m \u001b[39mherramientas\u001b[39;00m \u001b[39mas\u001b[39;00m \u001b[39mh\u001b[39;00m \n\u001b[0;32m      8\u001b[0m \u001b[39m# creo una instancia de la clase Herramientas del módulo h y la asigna a la variable h1.\u001b[39;00m\n\u001b[1;32m----> 9\u001b[0m h1 \u001b[39m=\u001b[39m h\u001b[39m.\u001b[39;49mHerramientas (\u001b[39m\"\u001b[39;49m\u001b[39mhola\u001b[39;49m\u001b[39m\"\u001b[39;49m)\n",
      "File \u001b[1;32mc:\\Users\\mateo\\Documents\\prep - course\\python\\08 - Error Handling\\herramientas.py:5\u001b[0m, in \u001b[0;36mHerramientas.__init__\u001b[1;34m(self, lista_numeros)\u001b[0m\n\u001b[0;32m      3\u001b[0m \u001b[39mif\u001b[39;00m (\u001b[39mtype\u001b[39m(lista_numeros) \u001b[39m!=\u001b[39m \u001b[39mlist\u001b[39m):\n\u001b[0;32m      4\u001b[0m     \u001b[39mself\u001b[39m\u001b[39m.\u001b[39mlista \u001b[39m=\u001b[39m []\n\u001b[1;32m----> 5\u001b[0m     \u001b[39mraise\u001b[39;00m \u001b[39mValueError\u001b[39;00m(\u001b[39m'\u001b[39m\u001b[39mSe ha creado una lista vacía. Se esperaba una lista de núemeros enteros\u001b[39m\u001b[39m'\u001b[39m)  \n\u001b[0;32m      6\u001b[0m \u001b[39melse\u001b[39;00m:\n\u001b[0;32m      7\u001b[0m     \u001b[39mself\u001b[39m\u001b[39m.\u001b[39mlista \u001b[39m=\u001b[39m lista_numeros\n",
      "\u001b[1;31mValueError\u001b[0m: Se ha creado una lista vacía. Se esperaba una lista de núemeros enteros"
     ]
    }
   ],
   "source": [
    "# importo el modulo sys para entrar a la ruta de búsqueda de py \n",
    "import sys \n",
    "# agrego la ruta con la función sys.path.append()\n",
    "sys. path. append(r\"C:\\Users\\mateo\\Documents\\prep - course\\python\\07 - Clases & OOP\\Prep_Course_Homework_07-Resuelto.ipynb\")\n",
    "# importo el modulo \"herramientas\" y le cambio el nombre a h \n",
    "# un modulo \n",
    "import herramientas as h \n",
    "# creo una instancia de la clase Herramientas del módulo h y la asigna a la variable h1.\n",
    "h1 = h.Herramientas (\"hola\")"
   ]
  },
  {
   "cell_type": "code",
   "execution_count": null,
   "metadata": {},
   "outputs": [],
   "source": [
    "h1 = h.Herramientas ([1, 2, 3, 4, 5])"
   ]
  },
  {
   "attachments": {},
   "cell_type": "markdown",
   "metadata": {},
   "source": [
    "2) En la función que hace la conversión de grados, validar que los parámetros enviados sean los esperados, de no serlo, informar cuáles son los valores esperados."
   ]
  },
  {
   "cell_type": "code",
   "execution_count": null,
   "metadata": {},
   "outputs": [
    {
     "data": {
      "text/plain": [
       "<module 'herramientas' from 'c:\\\\Users\\\\mateo\\\\Documents\\\\prep - course\\\\python\\\\08 - Error Handling\\\\herramientas.py'>"
      ]
     },
     "execution_count": 34,
     "metadata": {},
     "output_type": "execute_result"
    }
   ],
   "source": [
    "import importlib\n",
    "importlib.reload(h)"
   ]
  },
  {
   "cell_type": "code",
   "execution_count": null,
   "metadata": {},
   "outputs": [
    {
     "name": "stdout",
     "output_type": "stream",
     "text": [
      "Los parametros esperados son: ['celsius', 'kelvin', 'farenheit']\n"
     ]
    },
    {
     "data": {
      "text/plain": [
       "[]"
      ]
     },
     "execution_count": 16,
     "metadata": {},
     "output_type": "execute_result"
    }
   ],
   "source": [
    "h1 = h.Herramientas ([2, 3, 5, 6, 2])\n",
    "h1. conversion_grados (1,2)"
   ]
  },
  {
   "cell_type": "code",
   "execution_count": null,
   "metadata": {},
   "outputs": [
    {
     "data": {
      "text/plain": [
       "[275.15, 276.15, 278.15, 279.15, 275.15]"
      ]
     },
     "execution_count": 20,
     "metadata": {},
     "output_type": "execute_result"
    }
   ],
   "source": [
    "h1.conversion_grados ('celsius','kelvin')"
   ]
  },
  {
   "attachments": {},
   "cell_type": "markdown",
   "metadata": {},
   "source": [
    "3) Importar el modulo \"unittest\" y crear los siguientes casos de pruebas sobre la clase utilizada en el punto 2<br>\n",
    "Creacion del objeto incorrecta<br>\n",
    "Creacion correcta del objeto<br>\n",
    "Metodo valor_modal()<br>\n",
    "Se puede usar \"raise ValueError()\" en la creación de la clase para verificar el error. Investigar sobre esta funcionalidad.\n"
   ]
  },
  {
   "cell_type": "code",
   "execution_count": null,
   "metadata": {},
   "outputs": [
    {
     "name": "stderr",
     "output_type": "stream",
     "text": [
      "..............\n",
      "----------------------------------------------------------------------\n",
      "Ran 14 tests in 0.004s\n",
      "\n",
      "OK\n"
     ]
    }
   ],
   "source": [
    "import unittest\n",
    "import herramientas as h\n",
    "\n",
    "class TestHerramientas(unittest.TestCase):\n",
    "    def test_creacion_objeto_incorrecta(self):\n",
    "        with self.assertRaises(ValueError):\n",
    "            h.Herramientas(\"no es una lista\")\n",
    "\n",
    "    def test_creacion_objeto_correcta(self):\n",
    "        lista = [2, 5, 7]\n",
    "        herramientas = h.Herramientas(lista)\n",
    "        self.assertEqual(herramientas.lista, lista)\n",
    "\n",
    "    def test_valor_modal(self):\n",
    "        lista = [1, 3, 3, 3, 4, 4, 5, 6, 6]\n",
    "        herramientas = h.Herramientas(lista)\n",
    "        self.assertEqual(herramientas.valor_modal(menor=True), (3, 3))\n",
    "\n",
    "if __name__ == '__main__':\n",
    "    unittest.main(argv=['first-arg-is-ignored'], exit=False)"
   ]
  },
  {
   "attachments": {},
   "cell_type": "markdown",
   "metadata": {},
   "source": [
    "4) Probar una creación incorrecta y visualizar la salida del \"raise\""
   ]
  },
  {
   "cell_type": "code",
   "execution_count": null,
   "metadata": {},
   "outputs": [
    {
     "ename": "ValueError",
     "evalue": "Se ha creado una lista vacía. Se esperaba una lista de núemeros enteros",
     "output_type": "error",
     "traceback": [
      "\u001b[1;31m---------------------------------------------------------------------------\u001b[0m",
      "\u001b[1;31mValueError\u001b[0m                                Traceback (most recent call last)",
      "Cell \u001b[1;32mIn[49], line 1\u001b[0m\n\u001b[1;32m----> 1\u001b[0m herramienta_incorrecta \u001b[39m=\u001b[39m h\u001b[39m.\u001b[39;49mHerramientas(\u001b[39m\"\u001b[39;49m\u001b[39mno soy una lista\u001b[39;49m\u001b[39m\"\u001b[39;49m)\n",
      "File \u001b[1;32mc:\\Users\\mateo\\Documents\\prep - course\\python\\08 - Error Handling\\herramientas.py:5\u001b[0m, in \u001b[0;36mHerramientas.__init__\u001b[1;34m(self, lista_numeros)\u001b[0m\n\u001b[0;32m      3\u001b[0m \u001b[39mif\u001b[39;00m (\u001b[39mtype\u001b[39m(lista_numeros) \u001b[39m!=\u001b[39m \u001b[39mlist\u001b[39m):\n\u001b[0;32m      4\u001b[0m     \u001b[39mself\u001b[39m\u001b[39m.\u001b[39mlista \u001b[39m=\u001b[39m []\n\u001b[1;32m----> 5\u001b[0m     \u001b[39mraise\u001b[39;00m \u001b[39mValueError\u001b[39;00m(\u001b[39m'\u001b[39m\u001b[39mSe ha creado una lista vacía. Se esperaba una lista de núemeros enteros\u001b[39m\u001b[39m'\u001b[39m)  \n\u001b[0;32m      6\u001b[0m \u001b[39melse\u001b[39;00m:\n\u001b[0;32m      7\u001b[0m     \u001b[39mself\u001b[39m\u001b[39m.\u001b[39mlista \u001b[39m=\u001b[39m lista_numeros\n",
      "\u001b[1;31mValueError\u001b[0m: Se ha creado una lista vacía. Se esperaba una lista de núemeros enteros"
     ]
    }
   ],
   "source": [
    "herramienta_incorrecta = h.Herramientas(\"no soy una lista\")\n"
   ]
  },
  {
   "attachments": {},
   "cell_type": "markdown",
   "metadata": {},
   "source": [
    "5) Agregar casos de pruebas para el método verifica_primos() realizando el cambio en la clase, para que devuelva una lista de True o False en función de que el elemento en la posisicón sea o no primo"
   ]
  },
  {
   "cell_type": "code",
   "execution_count": null,
   "metadata": {},
   "outputs": [
    {
     "name": "stderr",
     "output_type": "stream",
     "text": [
      "E\n",
      "======================================================================\n",
      "ERROR: C:\\Users\\mateo\\AppData\\Roaming\\jupyter\\runtime\\kernel-84d26384-173c-44fd-a5e5-710964c6a8b1 (unittest.loader._FailedTest.C:\\Users\\mateo\\AppData\\Roaming\\jupyter\\runtime\\kernel-84d26384-173c-44fd-a5e5-710964c6a8b1)\n",
      "----------------------------------------------------------------------\n",
      "AttributeError: module '__main__' has no attribute 'C:\\Users\\mateo\\AppData\\Roaming\\jupyter\\runtime\\kernel-84d26384-173c-44fd-a5e5-710964c6a8b1'\n",
      "\n",
      "----------------------------------------------------------------------\n",
      "Ran 1 test in 0.001s\n",
      "\n",
      "FAILED (errors=1)\n"
     ]
    },
    {
     "ename": "SystemExit",
     "evalue": "True",
     "output_type": "error",
     "traceback": [
      "An exception has occurred, use %tb to see the full traceback.\n",
      "\u001b[1;31mSystemExit\u001b[0m\u001b[1;31m:\u001b[0m True\n"
     ]
    },
    {
     "name": "stderr",
     "output_type": "stream",
     "text": [
      "C:\\Users\\mateo\\AppData\\Roaming\\Python\\Python311\\site-packages\\IPython\\core\\interactiveshell.py:3513: UserWarning: To exit: use 'exit', 'quit', or Ctrl-D.\n",
      "  warn(\"To exit: use 'exit', 'quit', or Ctrl-D.\", stacklevel=1)\n"
     ]
    }
   ],
   "source": [
    "import unittest\n",
    "import herramientas as h\n",
    "\n",
    "class TestHerramientas(unittest.TestCase):\n",
    "    \n",
    "    def test_verifica_primo(self):\n",
    "        # Caso de prueba con lista vacía\n",
    "        self.assertEqual(h.Herramientas([]).verifica_primo(), [])\n",
    "        \n",
    "        # Caso de prueba con lista de un solo elemento que es primo\n",
    "        self.assertEqual(h.Herramientas([7]).verifica_primo(), [True])\n",
    "        \n",
    "        # Caso de prueba con lista de un solo elemento que no es primo\n",
    "        self.assertEqual(h.Herramientas([6]).verifica_primo(), [False])\n",
    "        \n",
    "        # Caso de prueba con lista de varios elementos con primos y no primos\n",
    "        self.assertEqual(h.Herramientas([2, 5, 8, 11, 15]).verifica_primo(), [True, True, False, True, False])\n",
    "    if __name__ == '__main__':\n",
    "        unittest.main()\n"
   ]
  },
  {
   "attachments": {},
   "cell_type": "markdown",
   "metadata": {},
   "source": [
    "7) Agregar casos de pruebas para el método conversion_grados()"
   ]
  },
  {
   "cell_type": "code",
   "execution_count": null,
   "metadata": {},
   "outputs": [
    {
     "name": "stderr",
     "output_type": "stream",
     "text": [
      "test_crear_objeto1 (__main__.ProbandoMiClase.test_crear_objeto1) ... ok\n",
      "test_crear_objeto2 (__main__.ProbandoMiClase.test_crear_objeto2) ... ok\n",
      "test_valor_modal (__main__.ProbandoMiClase.test_valor_modal) ... ok\n",
      "test_conversion_celsius_to_celsius (__main__.TestConversionGrados.test_conversion_celsius_to_celsius) ... ok\n",
      "test_conversion_celsius_to_farenheit (__main__.TestConversionGrados.test_conversion_celsius_to_farenheit) ... ok\n",
      "test_conversion_celsius_to_kelvin (__main__.TestConversionGrados.test_conversion_celsius_to_kelvin) ... ok\n",
      "test_conversion_farenheit_to_celsius (__main__.TestConversionGrados.test_conversion_farenheit_to_celsius) ... ok\n",
      "test_conversion_farenheit_to_farenheit (__main__.TestConversionGrados.test_conversion_farenheit_to_farenheit) ... ok\n",
      "test_conversion_farenheit_to_kelvin (__main__.TestConversionGrados.test_conversion_farenheit_to_kelvin) ... ok\n",
      "test_conversion_kelvin_to_celsius (__main__.TestConversionGrados.test_conversion_kelvin_to_celsius) ... ok\n",
      "test_conversion_kelvin_to_farenheit (__main__.TestConversionGrados.test_conversion_kelvin_to_farenheit) ... ok\n",
      "test_verifica_primo (__main__.TestHerramientas.test_verifica_primo) ... ok\n",
      "\n",
      "----------------------------------------------------------------------\n",
      "Ran 12 tests in 0.006s\n",
      "\n",
      "OK\n"
     ]
    },
    {
     "data": {
      "text/plain": [
       "<unittest.main.TestProgram at 0x1e560006e10>"
      ]
     },
     "execution_count": 85,
     "metadata": {},
     "output_type": "execute_result"
    }
   ],
   "source": [
    "import unittest\n",
    "import herramientas as h\n",
    "\n",
    "class TestConversionGrados(unittest.TestCase):\n",
    "    def test_conversion_celsius_to_celsius(self):\n",
    "        # Prueba de conversión de Celsius a Celsius\n",
    "        herramientas = h.Herramientas([0, 10, 20, 30, 40])\n",
    "        resultado = herramientas.conversion_grados('celsius', 'celsius')\n",
    "        self.assertEqual(resultado, [0, 10, 20, 30, 40])\n",
    "    \n",
    "    def test_conversion_celsius_to_farenheit(self):\n",
    "        # Prueba de conversión de Celsius a Farenheit\n",
    "        herramientas = h.Herramientas([0, 10, 20, 30, 40])\n",
    "        resultado = herramientas.conversion_grados('celsius', 'farenheit')\n",
    "        self.assertEqual(resultado, [32.0, 50.0, 68.0, 86.0, 104.0])\n",
    "    \n",
    "    def test_conversion_celsius_to_kelvin(self):\n",
    "        # Prueba de conversión de Celsius a Kelvin\n",
    "        herramientas = h.Herramientas([0, 10, 20, 30, 40])\n",
    "        resultado = herramientas.conversion_grados('celsius', 'kelvin')\n",
    "        self.assertEqual(resultado, [273.15, 283.15, 293.15, 303.15, 313.15])\n",
    "    \n",
    "    def test_conversion_farenheit_to_celsius(self):\n",
    "        # Prueba de conversión de Farenheit a Celsius\n",
    "        herramientas = h.Herramientas([32, 50, 68, 86, 104])\n",
    "        resultado = herramientas.conversion_grados('farenheit', 'celsius')\n",
    "        self.assertEqual(resultado, [0.0, 10.0, 20.0, 30.0, 40.0])\n",
    "    \n",
    "    def test_conversion_farenheit_to_farenheit(self):\n",
    "        # Prueba de conversión de Farenheit a Farenheit\n",
    "        herramientas = h.Herramientas([32, 50, 68, 86, 104])\n",
    "        resultado = herramientas.conversion_grados('farenheit', 'farenheit')\n",
    "        self.assertEqual(resultado, [32, 50, 68, 86, 104])\n",
    "    \n",
    "    def test_conversion_farenheit_to_kelvin(self):\n",
    "        # Prueba de conversión de Farenheit a Kelvin\n",
    "        herramientas = h.Herramientas([32, 50, 68, 86, 104])\n",
    "        resultado = herramientas.conversion_grados('farenheit', 'kelvin')\n",
    "        self.assertEqual(resultado, [273.15, 283.15, 293.15, 303.15, 313.15])\n",
    "    \n",
    "    def test_conversion_kelvin_to_celsius(self):\n",
    "        # Prueba de conversión de Kelvin a Celsius\n",
    "        herramientas = h.Herramientas([273.15, 283.15, 293.15, 303.15, 313.15])\n",
    "        resultado = herramientas.conversion_grados('kelvin', 'celsius')\n",
    "        self.assertEqual(resultado, [0.0, 10.0, 20.0, 30.0, 40.0])\n",
    "    \n",
    "    def test_conversion_kelvin_to_farenheit(self):\n",
    "        # Prueba de conversión de Kelvin a Farenheit\n",
    "        herramientas = h\n",
    "unittest.main(argv=[''], verbosity=2, exit=False)"
   ]
  },
  {
   "attachments": {},
   "cell_type": "markdown",
   "metadata": {},
   "source": [
    "8) Agregar casos de pruebas para el método factorial()\n"
   ]
  },
  {
   "cell_type": "code",
   "execution_count": 9,
   "metadata": {},
   "outputs": [
    {
     "name": "stderr",
     "output_type": "stream",
     "text": [
      "E\n",
      "======================================================================\n",
      "ERROR: C:\\Users\\mateo\\AppData\\Roaming\\jupyter\\runtime\\kernel-dbaa8390-356a-4c0d-b13a-4b7e34cc84a3 (unittest.loader._FailedTest.C:\\Users\\mateo\\AppData\\Roaming\\jupyter\\runtime\\kernel-dbaa8390-356a-4c0d-b13a-4b7e34cc84a3)\n",
      "----------------------------------------------------------------------\n",
      "AttributeError: module '__main__' has no attribute 'C:\\Users\\mateo\\AppData\\Roaming\\jupyter\\runtime\\kernel-dbaa8390-356a-4c0d-b13a-4b7e34cc84a3'\n",
      "\n",
      "----------------------------------------------------------------------\n",
      "Ran 1 test in 0.001s\n",
      "\n",
      "FAILED (errors=1)\n"
     ]
    },
    {
     "ename": "SystemExit",
     "evalue": "True",
     "output_type": "error",
     "traceback": [
      "An exception has occurred, use %tb to see the full traceback.\n",
      "\u001b[1;31mSystemExit\u001b[0m\u001b[1;31m:\u001b[0m True\n"
     ]
    },
    {
     "name": "stderr",
     "output_type": "stream",
     "text": [
      "C:\\Users\\mateo\\AppData\\Roaming\\Python\\Python311\\site-packages\\IPython\\core\\interactiveshell.py:3513: UserWarning: To exit: use 'exit', 'quit', or Ctrl-D.\n",
      "  warn(\"To exit: use 'exit', 'quit', or Ctrl-D.\", stacklevel=1)\n"
     ]
    }
   ],
   "source": [
    "import unittest\n",
    "\n",
    "class TestHerramientas(unittest.TestCase):\n",
    "\n",
    "    def test_factorial(self):\n",
    "        h1 = h.Herramientas([3, 4, 5])\n",
    "        self.assertEqual(h1.factorial(), [6, 24, 120])\n",
    "\n",
    "        h2 = h.Herramientas([0, 1, 2])\n",
    "        self.assertEqual(h2.factorial(), [1, 1, 2])\n",
    "\n",
    "        h3 = h.Herramientas([6, 7, 8])\n",
    "        self.assertEqual(h3.factorial(), [720, 5040, 40320])\n",
    "\n",
    "    def test_factorial_with_negative_number(self):\n",
    "        h1 = h.Herramientas([-3, 4, 5])\n",
    "        self.assertEqual(h1.factorial(), ['El numero debe ser pisitivo', 24, 120])\n",
    "\n",
    "        h2 = h.Herramientas([0, -1, 2])\n",
    "        self.assertEqual(h2.factorial(), [1, 'El numero debe ser pisitivo', 2])\n",
    "\n",
    "    def test_factorial_with_float_number(self):\n",
    "        h1 = h.Herramientas([3.5, 4.5, 5.5])\n",
    "        self.assertEqual(h1.factorial(), ['El numero debe ser un entero', 'El numero debe ser un entero', 'El numero debe ser un entero'])\n",
    "        \n",
    "if __name__ == '__main__':\n",
    "    unittest.main()\n"
   ]
  }
 ],
 "metadata": {
  "kernelspec": {
   "display_name": "Python 3",
   "language": "python",
   "name": "python3"
  },
  "language_info": {
   "codemirror_mode": {
    "name": "ipython",
    "version": 3
   },
   "file_extension": ".py",
   "mimetype": "text/x-python",
   "name": "python",
   "nbconvert_exporter": "python",
   "pygments_lexer": "ipython3",
   "version": "3.11.3"
  },
  "orig_nbformat": 4
 },
 "nbformat": 4,
 "nbformat_minor": 2
}
